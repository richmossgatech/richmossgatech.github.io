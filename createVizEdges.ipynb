{
 "cells": [
  {
   "cell_type": "code",
   "execution_count": 1,
   "id": "75e60267",
   "metadata": {},
   "outputs": [],
   "source": [
    "import pandas as pd\n",
    "import os\n",
    "\n",
    "start_season = '14_15'\n",
    "end_season = '19_20'\n",
    "k = 36"
   ]
  },
  {
   "cell_type": "code",
   "execution_count": 4,
   "id": "0394e7aa",
   "metadata": {},
   "outputs": [
    {
     "data": {
      "text/html": [
       "<div>\n",
       "<style scoped>\n",
       "    .dataframe tbody tr th:only-of-type {\n",
       "        vertical-align: middle;\n",
       "    }\n",
       "\n",
       "    .dataframe tbody tr th {\n",
       "        vertical-align: top;\n",
       "    }\n",
       "\n",
       "    .dataframe thead th {\n",
       "        text-align: right;\n",
       "    }\n",
       "</style>\n",
       "<table border=\"1\" class=\"dataframe\">\n",
       "  <thead>\n",
       "    <tr style=\"text-align: right;\">\n",
       "      <th></th>\n",
       "      <th>source</th>\n",
       "      <th>target</th>\n",
       "      <th>val_3</th>\n",
       "      <th>val_6</th>\n",
       "      <th>raw</th>\n",
       "      <th>total</th>\n",
       "    </tr>\n",
       "  </thead>\n",
       "  <tbody>\n",
       "    <tr>\n",
       "      <th>0</th>\n",
       "      <td>101106_2014-15</td>\n",
       "      <td>101133_2014-15</td>\n",
       "      <td>0</td>\n",
       "      <td>0</td>\n",
       "      <td>0.16</td>\n",
       "      <td>1</td>\n",
       "    </tr>\n",
       "    <tr>\n",
       "      <th>1</th>\n",
       "      <td>101106_2014-15</td>\n",
       "      <td>1889_2014-15</td>\n",
       "      <td>0</td>\n",
       "      <td>0</td>\n",
       "      <td>0.16</td>\n",
       "      <td>1</td>\n",
       "    </tr>\n",
       "    <tr>\n",
       "      <th>2</th>\n",
       "      <td>101106_2014-15</td>\n",
       "      <td>2399_2014-15</td>\n",
       "      <td>0</td>\n",
       "      <td>0</td>\n",
       "      <td>0.16</td>\n",
       "      <td>1</td>\n",
       "    </tr>\n",
       "    <tr>\n",
       "      <th>3</th>\n",
       "      <td>101106_2014-15</td>\n",
       "      <td>2405_2014-15</td>\n",
       "      <td>1</td>\n",
       "      <td>1</td>\n",
       "      <td>0.33</td>\n",
       "      <td>2</td>\n",
       "    </tr>\n",
       "    <tr>\n",
       "      <th>4</th>\n",
       "      <td>101106_2014-15</td>\n",
       "      <td>2419_2014-15</td>\n",
       "      <td>0</td>\n",
       "      <td>0</td>\n",
       "      <td>0.16</td>\n",
       "      <td>1</td>\n",
       "    </tr>\n",
       "  </tbody>\n",
       "</table>\n",
       "</div>"
      ],
      "text/plain": [
       "           source          target  val_3  val_6   raw  total\n",
       "0  101106_2014-15  101133_2014-15      0      0  0.16      1\n",
       "1  101106_2014-15    1889_2014-15      0      0  0.16      1\n",
       "2  101106_2014-15    2399_2014-15      0      0  0.16      1\n",
       "3  101106_2014-15    2405_2014-15      1      1  0.33      2\n",
       "4  101106_2014-15    2419_2014-15      0      0  0.16      1"
      ]
     },
     "execution_count": 4,
     "metadata": {},
     "output_type": "execute_result"
    }
   ],
   "source": [
    "# Define the relative path to the directory containing the CSV files\n",
    "relative_path_to_csvs = \"../output\"\n",
    "\n",
    "# Initialize an empty dataframe to store the concatenated data\n",
    "concatenated_df = pd.DataFrame()\n",
    "\n",
    "# Loop through each season\n",
    "for year in range(int(start_season[3:]), int(end_season[3:])):\n",
    "    # Construct the season identifier for the current year and the next year\n",
    "    season1 = str(year-1) + \"_\" + str(year)[-2:]\n",
    "    season2 = str(year) + \"_\" + str(year+1)[-2:]\n",
    "\n",
    "    # Loop through each season identifier and concatenate the data\n",
    "    for season in [season1, season2]:\n",
    "        # Construct the filename\n",
    "        filename = f\"{k}_raw_{season}.csv\"\n",
    "        fullpath = os.path.join(relative_path_to_csvs, filename)\n",
    "\n",
    "        # Read in the data from the file and append it to the concatenated dataframe\n",
    "        try:\n",
    "            season_df = pd.read_csv(fullpath)\n",
    "            concatenated_df = pd.concat([concatenated_df, season_df])\n",
    "        except FileNotFoundError:\n",
    "            print(f\"Error finding file {filename}\")\n",
    "            pass\n",
    "\n",
    "# Rename the 'player1' and 'player2' columns to 'source' and 'target', respectively\n",
    "concatenated_df = concatenated_df.rename(columns={\"player1\": \"source\", \"player2\": \"target\"})\n",
    "\n",
    "concatenated_df.head()"
   ]
  },
  {
   "cell_type": "code",
   "execution_count": 5,
   "id": "34d5fd26",
   "metadata": {},
   "outputs": [
    {
     "data": {
      "text/plain": [
       "(234746, 6)"
      ]
     },
     "execution_count": 5,
     "metadata": {},
     "output_type": "execute_result"
    }
   ],
   "source": [
    "concatenated_df.shape"
   ]
  },
  {
   "cell_type": "code",
   "execution_count": 12,
   "id": "81c41380",
   "metadata": {},
   "outputs": [
    {
     "data": {
      "text/html": [
       "<div>\n",
       "<style scoped>\n",
       "    .dataframe tbody tr th:only-of-type {\n",
       "        vertical-align: middle;\n",
       "    }\n",
       "\n",
       "    .dataframe tbody tr th {\n",
       "        vertical-align: top;\n",
       "    }\n",
       "\n",
       "    .dataframe thead th {\n",
       "        text-align: right;\n",
       "    }\n",
       "</style>\n",
       "<table border=\"1\" class=\"dataframe\">\n",
       "  <thead>\n",
       "    <tr style=\"text-align: right;\">\n",
       "      <th></th>\n",
       "      <th>source</th>\n",
       "      <th>target</th>\n",
       "      <th>val_3</th>\n",
       "      <th>val_6</th>\n",
       "      <th>raw</th>\n",
       "      <th>total</th>\n",
       "    </tr>\n",
       "  </thead>\n",
       "  <tbody>\n",
       "    <tr>\n",
       "      <th>0</th>\n",
       "      <td>101106_2014-15</td>\n",
       "      <td>101133_2014-15</td>\n",
       "      <td>0</td>\n",
       "      <td>0</td>\n",
       "      <td>0.16</td>\n",
       "      <td>1</td>\n",
       "    </tr>\n",
       "    <tr>\n",
       "      <th>1</th>\n",
       "      <td>101106_2014-15</td>\n",
       "      <td>1889_2014-15</td>\n",
       "      <td>0</td>\n",
       "      <td>0</td>\n",
       "      <td>0.16</td>\n",
       "      <td>1</td>\n",
       "    </tr>\n",
       "    <tr>\n",
       "      <th>2</th>\n",
       "      <td>101106_2014-15</td>\n",
       "      <td>2399_2014-15</td>\n",
       "      <td>0</td>\n",
       "      <td>0</td>\n",
       "      <td>0.16</td>\n",
       "      <td>1</td>\n",
       "    </tr>\n",
       "    <tr>\n",
       "      <th>3</th>\n",
       "      <td>101106_2014-15</td>\n",
       "      <td>2405_2014-15</td>\n",
       "      <td>1</td>\n",
       "      <td>1</td>\n",
       "      <td>0.33</td>\n",
       "      <td>2</td>\n",
       "    </tr>\n",
       "    <tr>\n",
       "      <th>4</th>\n",
       "      <td>101106_2014-15</td>\n",
       "      <td>2419_2014-15</td>\n",
       "      <td>0</td>\n",
       "      <td>0</td>\n",
       "      <td>0.16</td>\n",
       "      <td>1</td>\n",
       "    </tr>\n",
       "  </tbody>\n",
       "</table>\n",
       "</div>"
      ],
      "text/plain": [
       "           source          target  val_3  val_6   raw  total\n",
       "0  101106_2014-15  101133_2014-15      0      0  0.16      1\n",
       "1  101106_2014-15    1889_2014-15      0      0  0.16      1\n",
       "2  101106_2014-15    2399_2014-15      0      0  0.16      1\n",
       "3  101106_2014-15    2405_2014-15      1      1  0.33      2\n",
       "4  101106_2014-15    2419_2014-15      0      0  0.16      1"
      ]
     },
     "execution_count": 12,
     "metadata": {},
     "output_type": "execute_result"
    }
   ],
   "source": [
    "concatenated_df = concatenated_df.rename(columns={\"player1\": \"source\", \"player2\": \"target\"})\n",
    "concatenated_df.head()"
   ]
  },
  {
   "cell_type": "code",
   "execution_count": 14,
   "id": "09ae97c1",
   "metadata": {},
   "outputs": [],
   "source": [
    "# save the combined data to a CSV file\n",
    "concatenated_df.to_csv(\"output.csv\", index=False)"
   ]
  },
  {
   "cell_type": "code",
   "execution_count": null,
   "id": "33d58f04",
   "metadata": {},
   "outputs": [],
   "source": []
  }
 ],
 "metadata": {
  "kernelspec": {
   "display_name": "Python 3",
   "language": "python",
   "name": "python3"
  },
  "language_info": {
   "codemirror_mode": {
    "name": "ipython",
    "version": 3
   },
   "file_extension": ".py",
   "mimetype": "text/x-python",
   "name": "python",
   "nbconvert_exporter": "python",
   "pygments_lexer": "ipython3",
   "version": "3.8.8"
  }
 },
 "nbformat": 4,
 "nbformat_minor": 5
}
